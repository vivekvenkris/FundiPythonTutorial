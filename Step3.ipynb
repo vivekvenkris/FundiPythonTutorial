{
 "cells": [
  {
   "cell_type": "markdown",
   "id": "a9b39581-cb00-4907-8264-38be3451d7a2",
   "metadata": {},
   "source": [
    "## Step 3\n",
    "In the last step of this tutorial, we will load the folded pulsar archive file - J1818-1422 that we just created, using psrchive python bindings. We will perform several operations on the archive, and plot it using matplotlib\n"
   ]
  },
  {
   "cell_type": "code",
   "execution_count": 21,
   "id": "10484fd3-4410-4b65-a234-bab5bca240e5",
   "metadata": {},
   "outputs": [],
   "source": [
    "import psrchive as ps"
   ]
  },
  {
   "cell_type": "code",
   "execution_count": 22,
   "id": "32cff2af-ebca-4825-8102-3a21c6fd61b8",
   "metadata": {},
   "outputs": [],
   "source": [
    "ar = ps.Archive_load(\"J1818-1422.ar\")"
   ]
  },
  {
   "cell_type": "code",
   "execution_count": 23,
   "id": "4078c2a7-a2b6-4b67-9430-0d8200792c36",
   "metadata": {},
   "outputs": [],
   "source": [
    "dir(ar);"
   ]
  },
  {
   "cell_type": "code",
   "execution_count": 25,
   "id": "b30dd36d-756c-44f5-a4de-88c9e48d4b53",
   "metadata": {},
   "outputs": [
    {
     "name": "stdout",
     "output_type": "stream",
     "text": [
      "nchans = 512 nsubints = 009 npols = 001 nbins = 512\n"
     ]
    }
   ],
   "source": [
    "nchans = ar.get_nchan()\n",
    "nsubints = ar.get_nsubint()\n",
    "npols = ar.get_npol()\n",
    "nbins = ar.get_nbin()\n",
    "\n",
    "print(\"nchans = {2:03d} nsubints = {1:03d} npols = {0:03d} nbins = {3:03d}\".format(npols, nsubints, nchans, nbins))"
   ]
  },
  {
   "cell_type": "code",
   "execution_count": 26,
   "id": "e30fd467-84a1-48c2-88b0-3e48d3e46c4d",
   "metadata": {},
   "outputs": [],
   "source": [
    "ar.pscrunch()\n",
    "ar.fscrunch()\n",
    "ar.tscrunch()"
   ]
  },
  {
   "cell_type": "code",
   "execution_count": 32,
   "id": "689629c7-93fc-4d69-9a91-1c476c1ccbae",
   "metadata": {},
   "outputs": [],
   "source": [
    "ar.remove_baseline()"
   ]
  },
  {
   "cell_type": "code",
   "execution_count": 33,
   "id": "bbeb6ff3-2fcb-41ed-9513-2c2da67a2db7",
   "metadata": {},
   "outputs": [
    {
     "name": "stdout",
     "output_type": "stream",
     "text": [
      "nchans = 001 nsubints = 001 npols = 001 nbins = 512\n"
     ]
    }
   ],
   "source": [
    "nchans = ar.get_nchan()\n",
    "nsubints = ar.get_nsubint()\n",
    "npols = ar.get_npol()\n",
    "nbins = ar.get_nbin()\n",
    "\n",
    "print(\"nchans = {2:03d} nsubints = {1:03d} npols = {0:03d} nbins = {3:03d}\".format(nsubints, npols, nchans, nbins))"
   ]
  },
  {
   "cell_type": "code",
   "execution_count": null,
   "id": "3ebf66b0-ff45-4d2c-a5f3-93551066915b",
   "metadata": {},
   "outputs": [],
   "source": [
    "integration = ar.get_Integration(0) # gets the first and only integration\n",
    "profile = integration.get_Profile(0,0) # integration.get_Profile(ipol,ichan) get the first and only polarisation, and the first and only channel\n",
    "I = profile.get_amps() #get the raw amplitude data of the profile."
   ]
  },
  {
   "cell_type": "code",
   "execution_count": 10,
   "id": "82fa3a50-b8bd-4edd-9e66-db049c529eb8",
   "metadata": {},
   "outputs": [
    {
     "data": {
      "text/plain": [
       "[<matplotlib.lines.Line2D at 0x7f64fe604128>]"
      ]
     },
     "execution_count": 10,
     "metadata": {},
     "output_type": "execute_result"
    },
    {
     "data": {
      "image/png": "[encoded data removed]",
      "text/plain": [
       "<Figure size 432x288 with 1 Axes>"
      ]
     },
     "metadata": {
      "needs_background": "light"
     },
     "output_type": "display_data"
    }
   ],
   "source": [
    "import matplotlib.pyplot as plt\n",
    "plt.plot(I)"
   ]
  },
  {
   "cell_type": "markdown",
   "id": "eae73b03-1613-4a84-aba0-48a092d9ee17",
   "metadata": {},
   "source": [
    "# Exercise\n",
    "\n",
    "Modify the above code to not fully scrunch in frequency but just to scrunch by a factor of 64, and a figure with 8 subplots showing the subbanded profile. The plot title should be the start time of the observation. \n",
    "Advanced: make a single plot that contains 8 - non-overlapping lines showing the subbanded profiles."
   ]
  }
 ],
 "metadata": {
  "kernelspec": {
   "display_name": "Python 3",
   "language": "python",
   "name": "python3"
  },
  "language_info": {
   "codemirror_mode": {
    "name": "ipython",
    "version": 3
   },
   "file_extension": ".py",
   "mimetype": "text/x-python",
   "name": "python",
   "nbconvert_exporter": "python",
   "pygments_lexer": "ipython3",
   "version": "3.6.9"
  }
 },
 "nbformat": 4,
 "nbformat_minor": 5
}
