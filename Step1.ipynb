{
 "cells": [
  {
   "cell_type": "markdown",
   "id": "b1fea15f-f39f-40b8-b847-bef1073e0234",
   "metadata": {},
   "source": [
    "## Step 1\n",
    "To load the filterbank on RAM, we need the following: \n",
    "We use the sigpyproc3 package from Here: https://github.com/FRBs/sigpyproc3 to load the filterbank"
   ]
  },
  {
   "cell_type": "code",
   "execution_count": null,
   "id": "9fd9c6a3-e808-421f-8967-eab4253d8aed",
   "metadata": {},
   "outputs": [],
   "source": [
    "from sigpyproc.Readers import FilReader\n",
    "fil = FilReader(\"J1818-1422.fil\")"
   ]
  },
  {
   "cell_type": "markdown",
   "id": "6c19a227-3f52-4d59-8f5c-bf6c57067bf8",
   "metadata": {},
   "source": [
    "Now that we have loaded the fil file, let's look at its header. All header values are stored in the fil.header attribute may be accessed both as dictionary items and/or as attributes, example: `fil.header.nchans` or `fil.header[\"nchans\"]`"
   ]
  },
  {
   "cell_type": "code",
   "execution_count": null,
   "id": "8bef8afd-1c4f-42a6-84d6-ddf6d0b87ac1",
   "metadata": {},
   "outputs": [],
   "source": [
    "fil.header;"
   ]
  },
  {
   "cell_type": "markdown",
   "id": "2a738f1b-774f-4909-87db-18d68bcdb838",
   "metadata": {},
   "source": [
    "Now that should have given you all the information you need about the data. Let's store some useful variables to use later"
   ]
  },
  {
   "cell_type": "code",
   "execution_count": null,
   "id": "ebe6bdb8-2ac0-4e7e-9b97-eb1405497d76",
   "metadata": {},
   "outputs": [],
   "source": [
    "nchans = fil.header['nchans']\n",
    "tsamp = fil.header['tsamp']\n",
    "nsamps = fil.header['nsamples_list'][0]\n",
    "print(\"nchans = \", nchans, \"tsamp = \", tsamp, \"nsamps = \", nsamps) #This is one way to format a string when printing in python. "
   ]
  },
  {
   "cell_type": "code",
   "execution_count": null,
   "id": "70099e3c-e273-4d45-95c8-8c252f5546b3",
   "metadata": {},
   "outputs": [],
   "source": [
    "import numpy as np \n",
    "tim = fil.dedisperse(622) # we dedisperse the data at the DM of the pulsar\n",
    "#normalise the data so it has ~ 0 mean and 1 std. dev\n",
    "tim = tim - np.mean(tim)\n",
    "tim = tim/np.std(tim)"
   ]
  },
  {
   "cell_type": "code",
   "execution_count": null,
   "id": "eefd9d50-d926-43a4-b1c7-884494561a96",
   "metadata": {},
   "outputs": [],
   "source": [
    "# Now let's plot our data\n",
    "# this helps you view your plots inside jupyter notebooks\n",
    "%matplotlib inline \n",
    "import matplotlib.pyplot as plt\n",
    "import numpy as np\n",
    "plt.plot(tim)"
   ]
  },
  {
   "cell_type": "markdown",
   "id": "d8dc8cb7-2046-4548-b655-ae39f234d823",
   "metadata": {},
   "source": [
    "That just looks like random noise... or does it? Let's try to zoom into just a few pulses.  We know the spin period of this pulsar is ~0.291 seconds. Given the sampling time and the number of samples, let's calculate how many data points constitute one rotation of the pulsar"
   ]
  },
  {
   "cell_type": "code",
   "execution_count": null,
   "id": "d746bbad-30ad-4ea3-820d-40966158f69d",
   "metadata": {},
   "outputs": [],
   "source": [
    "period = 0.29148 # approximately, in seconds \n",
    "nsamps_per_period =  period / tsamp\n",
    "print(\"nsamps_per_period {0}\".format(nsamps_per_period)) #This is another way to format a string in python. "
   ]
  },
  {
   "cell_type": "markdown",
   "id": "2b443ce3-2ef5-4c4b-9030-0b25f70a5e63",
   "metadata": {},
   "source": [
    "Let's now try to plot just a few pulses. "
   ]
  },
  {
   "cell_type": "code",
   "execution_count": null,
   "id": "6e64b8b8-2136-49df-a64c-09375c257893",
   "metadata": {},
   "outputs": [],
   "source": [
    "nbins = round(nsamps_per_period * 2)\n",
    "plt.plot(tim[:nbins]) # numpy arrays can be shortlisted by the index notation -> x:y shortlists all indices of the array from x to y-1"
   ]
  },
  {
   "cell_type": "markdown",
   "id": "6a89612c-b260-457b-89de-d9fda2f67e51",
   "metadata": {},
   "source": [
    "...and there you go! you now have a few single pulse detections of the pulsar! Now let's try looping through a number of single pulses to get a feel for it. \n"
   ]
  },
  {
   "cell_type": "code",
   "execution_count": null,
   "id": "373c44a7-5525-4e1e-940d-af7aa1a76bcc",
   "metadata": {},
   "outputs": [],
   "source": [
    "from IPython import display\n",
    "from IPython.display import clear_output\n",
    "import time\n",
    "start = 0\n",
    "end = round(nsamps_per_period * 2)\n",
    "for i in range(10): #python built in function -  returns an array from 1 to 10\n",
    "    plt.plot(tim[start:end]) #plot the new data\n",
    "    start = end\n",
    "    end = end + round(nsamps_per_period * 2)\n",
    "    display.display(plt.gcf()) # show the plot on jupyter notebook, not needed for standalone code\n",
    "    time.sleep(1.0) # sleep for 1 second\n",
    "    plt.clf() # clear the plot    \n",
    "    display.clear_output(wait=True) # clear the display on Jupyter notebook, not needed for standalone code\n",
    "    "
   ]
  },
  {
   "cell_type": "markdown",
   "id": "dc001dbc-bace-4c24-aa4b-5bb785519d9d",
   "metadata": {},
   "source": [
    "# Exercise \n",
    "1. Plot the first 4 pulses, with two subplots - so two pulses per plot, overlayed on each other, with different colors, along with a legend denoting the pulse number. The plots should contain the X, and Y labels, a title and should share one of the common axis between them. \n",
    "2. Use the sigproc documentation to know how to obtain the average bandpass of the data, use the header parameters to produce a bandpass plot - i.e. Frequency in MHz, vs amplitude. "
   ]
  }
 ],
 "metadata": {
  "kernelspec": {
   "display_name": "Python 3",
   "language": "python",
   "name": "python3"
  },
  "language_info": {
   "codemirror_mode": {
    "name": "ipython",
    "version": 3
   },
   "file_extension": ".py",
   "mimetype": "text/x-python",
   "name": "python",
   "nbconvert_exporter": "python",
   "pygments_lexer": "ipython3",
   "version": "3.6.9"
  }
 },
 "nbformat": 4,
 "nbformat_minor": 5
}
