{
 "cells": [
  {
   "cell_type": "markdown",
   "id": "f55029b9-a167-4e18-a606-ccd52a1f5329",
   "metadata": {},
   "source": [
    "## Step 2\n",
    "Fold the data at the topocentric period of the pulsar using DSPSR. DSPSR is a software package that is the industry standard for folding pulsar data. It can take in a filterbank file (which is essentially a multi-frequency time series) and fold the data at the topocentric period of the pulsar and write out what is called a pulsar \"archive\". A pulsar archive is a 4D matrix with time, frequency, polarisation and the rotational phase of the pulsar as its dimensions. In this tutorial, we use only the total intensity of the pulse  - so there is no polarisation information. You can assume that this is a cube with time, frequency and rotational phase as its axes. \n"
   ]
  },
  {
   "cell_type": "markdown",
   "id": "63fe2a70-f165-47fe-98b7-b84d5d8c9484",
   "metadata": {},
   "source": [
    "Since DSPSR is a software package on its own, and it does not have any python wrappers, we will access it as a unix executable, and in the process learn how to run another process from within python. We will use the `subprocess` module to call a unix executable. Subprocess allows you to spawn new processes, connect to their input/output/error pipes, and obtain their return codes. Before running DSPSR, we will see some examples of how to run `subprocess`"
   ]
  },
  {
   "cell_type": "code",
   "execution_count": 9,
   "id": "1da901fa-31eb-4e14-b015-fbbc74bbd1e3",
   "metadata": {},
   "outputs": [],
   "source": [
    "dspsr_cmd = \"dspsr -Lmin 8 -L 10 -E J1818-1422.par -A -t 4 J1818-1422.fil -O J1818-1422\""
   ]
  },
  {
   "cell_type": "code",
   "execution_count": 10,
   "id": "0be6b71d-c278-4058-81a3-c423f2ba23d3",
   "metadata": {},
   "outputs": [],
   "source": [
    "import subprocess\n",
    "import sys\n",
    "import shlex"
   ]
  },
  {
   "cell_type": "code",
   "execution_count": 17,
   "id": "6042a64a-f3db-48e5-9830-41674e148039",
   "metadata": {},
   "outputs": [
    {
     "name": "stdout",
     "output_type": "stream",
     "text": [
      "dspsr: Loading ephemeris from J1818-1422.par\n",
      "\n",
      "dspsr: Single archive with multiple sub-integrations\n",
      "\n",
      "dspsr: Single archive with multiple sub-integrations\n",
      "\n",
      "dspsr: Single archive with multiple sub-integrations\n",
      "\n",
      "dspsr: Single archive with multiple sub-integrations\n",
      "\n",
      "dspsr: blocksize=104856 samples or 255.996 MB\n",
      "\n",
      "dsp::Archiver::unload ignoring 3.8997 seconds of data\n",
      "\n",
      "dsp::Archiver::finish archive 'J1818-1422.ar' with 9 integrations\n",
      "\n"
     ]
    }
   ],
   "source": [
    "p = subprocess.Popen(shlex.split(dspsr_cmd),\n",
    "                        stdin=subprocess.PIPE,\n",
    "                        stdout=subprocess.PIPE,\n",
    "                        stderr=subprocess.PIPE)\n",
    "\n",
    "p.wait()    \n",
    "while True:\n",
    "    out = p.stderr.readline()\n",
    "    out = out.decode()\n",
    "    if out is None or out == '':\n",
    "        break;\n",
    "    print(out)\n",
    "\n"
   ]
  },
  {
   "cell_type": "markdown",
   "id": "c20741d7-5d0b-4322-ace8-c7e3c5880b7d",
   "metadata": {},
   "source": [
    "# Exercise\n",
    "\n",
    "1. Write a standalone python code (outside of jupyter notebook) that can take the values of \"-Lmin, -L, -A and -O\" arguments of dspsr from the user using argparse\n",
    "2. In the same code, capture and print the messages from dspsr \"live\". Note that dspsr writes to stderr and not stdout. "
   ]
  },
  {
   "cell_type": "code",
   "execution_count": null,
   "id": "37486d51-107f-421d-982f-5a9edee89bd2",
   "metadata": {},
   "outputs": [],
   "source": []
  }
 ],
 "metadata": {
  "kernelspec": {
   "display_name": "Python 3",
   "language": "python",
   "name": "python3"
  },
  "language_info": {
   "codemirror_mode": {
    "name": "ipython",
    "version": 3
   },
   "file_extension": ".py",
   "mimetype": "text/x-python",
   "name": "python",
   "nbconvert_exporter": "python",
   "pygments_lexer": "ipython3",
   "version": "3.6.9"
  }
 },
 "nbformat": 4,
 "nbformat_minor": 5
}
