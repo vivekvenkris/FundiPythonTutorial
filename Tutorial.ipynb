{
 "cells": [
  {
   "cell_type": "markdown",
   "id": "e0d3d0b4-44ac-46e2-946c-8806b037953c",
   "metadata": {},
   "source": [
    "# Beware of Python 2.x vs 3.x - This entire tutorial uses 3.x "
   ]
  },
  {
   "cell_type": "markdown",
   "id": "57ee53c2-4850-437f-a748-3248a7867102",
   "metadata": {},
   "source": [
    "# Jupyter notebooks"
   ]
  },
  {
   "cell_type": "code",
   "execution_count": null,
   "id": "597d3703-e7d1-4de8-ac81-b5de3a7c92c6",
   "metadata": {},
   "outputs": [],
   "source": [
    "print(\"test\") # press shift + enter to execute this statement\n",
    "# esc + a to add a new cell above, esc + b to add a new cell below\n",
    "# esc + dd to delete a cell"
   ]
  },
  {
   "cell_type": "code",
   "execution_count": null,
   "id": "54196b81-c666-472f-87b4-bc7e9ba1223e",
   "metadata": {},
   "outputs": [],
   "source": [
    "2+2"
   ]
  },
  {
   "cell_type": "code",
   "execution_count": null,
   "id": "d57c17fa-2556-435e-8453-f21b2c75218c",
   "metadata": {},
   "outputs": [],
   "source": [
    "x = 2+2"
   ]
  },
  {
   "cell_type": "code",
   "execution_count": null,
   "id": "3e8bbbb1-8ca0-4861-bc4e-f7f2f86b3dd0",
   "metadata": {},
   "outputs": [],
   "source": [
    "print(x)"
   ]
  },
  {
   "cell_type": "markdown",
   "id": "58665b23-084f-4b23-9a5b-a4e145eef020",
   "metadata": {},
   "source": [
    "# General python/Jupyter notebook tricks. "
   ]
  },
  {
   "cell_type": "code",
   "execution_count": null,
   "id": "7b9f5c78-6581-4f46-9528-a38ed4626952",
   "metadata": {},
   "outputs": [],
   "source": [
    "#import sys\n",
    "#sys.version\n",
    "\n",
    "#import matplotlib\n",
    "#matplotlib.__version__\n",
    "#dir(sys)\n",
    "#help(sys.stdout)\n",
    "#sys.stdout?\n",
    "#sys.exit?\n",
    "#Show contextual help"
   ]
  },
  {
   "cell_type": "markdown",
   "id": "b38b6577-b9bf-4f21-95ec-ee5a0e3f7959",
   "metadata": {},
   "source": [
    "# Numpy arrays\n",
    "\n",
    "A multi-dimensional array manipulation library in Python\n",
    "Contains fast implementations in C for most  operations. "
   ]
  },
  {
   "cell_type": "code",
   "execution_count": null,
   "id": "f694d559-a41d-4bab-b95c-2b71725ca773",
   "metadata": {},
   "outputs": [],
   "source": [
    "import numpy as np\n",
    "native_array = [1, 2, 3, 10]\n",
    "numpy_array = np.array(native_array)\n",
    "for i in range(len(native_array)):\n",
    "    print(\"native_array[i]:\",native_array[i],\" numpy_array[i]:\",numpy_array[i])"
   ]
  },
  {
   "cell_type": "markdown",
   "id": "354af978-2260-4a85-bb8f-13621337203d",
   "metadata": {},
   "source": [
    "Those look the same, but are they really the same?"
   ]
  },
  {
   "cell_type": "code",
   "execution_count": null,
   "id": "f6383659-3c29-4695-8fbc-047af7483089",
   "metadata": {},
   "outputs": [],
   "source": [
    "print(type(arr), type(a))"
   ]
  },
  {
   "cell_type": "code",
   "execution_count": null,
   "id": "080c3e89-bba2-46fa-9c59-ab6b2473f275",
   "metadata": {},
   "outputs": [],
   "source": [
    "b = np.array([[1, 2, 3, 4], [5, 6, 7, 10.0]], dtype=np.float32)\n",
    "print(b)\n",
    "print(b.shape, b.dtype)\n"
   ]
  },
  {
   "cell_type": "markdown",
   "id": "0324b4c7-3e20-4b39-bb8e-36953345e900",
   "metadata": {},
   "source": [
    "## Numpy generation functions "
   ]
  },
  {
   "cell_type": "code",
   "execution_count": null,
   "id": "2c5817a0-3a10-43b6-95e1-d995d3e355cc",
   "metadata": {},
   "outputs": [],
   "source": [
    "print(np.zeros(3))\n",
    "print(np.ones((3,3),dtype=np.float64))\n",
    "print(np.linspace(1,10,10)) # start, stop, num\n",
    "print(np.logspace(1,3,3)) # start, stop, num"
   ]
  },
  {
   "cell_type": "markdown",
   "id": "491192e8-a06d-493f-af11-0aa5a69704ca",
   "metadata": {},
   "source": [
    "## Numpy index manipulation"
   ]
  },
  {
   "cell_type": "code",
   "execution_count": null,
   "id": "c6f10a1e-21ab-4b20-8fcc-488e91095e81",
   "metadata": {},
   "outputs": [],
   "source": [
    "x = np.linspace(1,10,10)\n",
    "x, x[:2], x[2:], x[:-2], x[::2], x[::-2], x[::-1]"
   ]
  },
  {
   "cell_type": "markdown",
   "id": "318b1ce6-be02-4b1e-bd8f-712ce16ebe06",
   "metadata": {},
   "source": [
    "## Built in math functions"
   ]
  },
  {
   "cell_type": "code",
   "execution_count": null,
   "id": "b33949ff-ba10-45f8-9a92-5b8c532ec4f1",
   "metadata": {},
   "outputs": [],
   "source": [
    "np.mean(x), np.sin(x), x*2"
   ]
  },
  {
   "cell_type": "markdown",
   "id": "3672ed18-e075-4f30-a518-491931350e04",
   "metadata": {},
   "source": [
    "# Matplotlib\n",
    "A matlab-like plotting library for static, animated and interactive plotting with python. "
   ]
  },
  {
   "cell_type": "code",
   "execution_count": null,
   "id": "b8c8af86-867d-4424-b4e9-7a1d59127064",
   "metadata": {},
   "outputs": [],
   "source": [
    "import matplotlib\n",
    "import matplotlib.pyplot as plt\n",
    "%matplotlib inline"
   ]
  },
  {
   "cell_type": "code",
   "execution_count": null,
   "id": "f098b490-be44-4bb2-b9d1-c5d7c05e3439",
   "metadata": {},
   "outputs": [],
   "source": [
    "# generate data\n",
    "x = np.linspace(-np.pi, np.pi, 1024)\n",
    "cos, sin = np.cos(x), np.sin(x)\n",
    "\n",
    "# plot the data \n",
    "plt.plot(x, cos)\n",
    "plt.plot(x, sin)\n",
    "\n",
    "# Set x limits\n",
    "plt.xlim(-4.0, 4.0)\n",
    "\n",
    "# Set y limits\n",
    "plt.ylim(-1.0, 1.0)\n"
   ]
  },
  {
   "cell_type": "code",
   "execution_count": null,
   "id": "8a7e2827-3ca4-4d5d-9cec-b87993b5c55f",
   "metadata": {},
   "outputs": [],
   "source": [
    "fig, (ax1,ax2) = plt.subplots(2,1)\n",
    "ax1.plot(x, cos)\n",
    "ax2.plot(x, sin)\n"
   ]
  },
  {
   "cell_type": "markdown",
   "id": "ebb9b635-9f03-4d61-8c50-150a20e33242",
   "metadata": {},
   "source": [
    "## Time/Life savers: os, pathlib, shutil, subprocess, sys and argparse\n",
    "os, pathlib - for performing system related tasks such as directory navigation, running a system command, or manipulating paths: switching directories, building file/pathnames\n",
    "\n",
    "shutil - high level file operators - copy, move, own, delete etc.. \n",
    "\n",
    "sys - System specific parameters and functions specifically getting command line arguments, std I/O\n",
    "\n",
    "argparse - parse commandline arguments easily\n"
   ]
  },
  {
   "cell_type": "code",
   "execution_count": null,
   "id": "22c13373-64af-4be3-958f-d5f93f20a283",
   "metadata": {},
   "outputs": [],
   "source": [
    "import os\n",
    "os.getcwd()\n",
    "#os.chdir(\"FundiPythonTutorial\")\n",
    "#os.chdir(\"..\")\n",
    "os.getcwd()\n",
    "os.listdir()\n",
    "os.system(\"touch test.txt\")"
   ]
  },
  {
   "cell_type": "code",
   "execution_count": null,
   "id": "1c645813-34bd-4d44-a368-0bb44d68e747",
   "metadata": {},
   "outputs": [],
   "source": [
    "from pathlib import Path\n",
    "p = Path('.')\n",
    "print(list(p.glob('**/*.py')))"
   ]
  },
  {
   "cell_type": "code",
   "execution_count": null,
   "id": "86b3ce56-753c-40ce-bc2d-69ce7ee3d8cd",
   "metadata": {},
   "outputs": [],
   "source": [
    "os.system(\"echo 'Hello'\")"
   ]
  },
  {
   "cell_type": "markdown",
   "id": "d4044417-0d6b-47f4-9dff-0db097bcc9fc",
   "metadata": {},
   "source": [
    "Okay, that returned success, but did it really do anything? We don't have any way of accessing the output from the called processes. This is where the `subprocess` packages comes handy"
   ]
  },
  {
   "cell_type": "code",
   "execution_count": null,
   "id": "0a3ad93d-82e2-4f47-99a1-30806279b838",
   "metadata": {},
   "outputs": [],
   "source": [
    "import subprocess\n",
    "import sys\n",
    "import shlex\n",
    "# Start a subprocess which is a bash shell, capture its output and error, and print\n",
    "result = subprocess.run(\n",
    "    [\"/bin/bash\", \"-c\", \"echo 'Helo Output'\"], stdout=subprocess.PIPE, stderr=subprocess.PIPE\n",
    ")\n",
    "print(\"stdout:\", result.stdout)\n",
    "print(\"stderr:\", result.stderr)\n",
    "print(\"return code\", result.returncode) # 0 means the process was executed successfully, non zero values mean a failure, with the number representing an error code. \n",
    "print(\"***********\")\n",
    "\n",
    "# same as above, but the echo statement modified to print to stderr instead\n",
    "result = subprocess.run(\n",
    "    [\"/bin/bash\", \"-c\", \"echo 'Helo Error' 1>&2\"], stdout=subprocess.PIPE, stderr=subprocess.PIPE\n",
    ")\n",
    "print(\"stdout:\", result.stdout, \"stderr:\", result.stderr, \"return code: \", result.returncode)\n",
    "\n",
    "\n",
    "# a simpler way to run the same command, and this time, the return code is explicity changed to 1, which denotes a failure of the command\n",
    "\n",
    "result = subprocess.run(\n",
    "    [\"echo 'Simpler Hello'; exit 1;\"], stdout=subprocess.PIPE, stderr=subprocess.PIPE, shell=True\n",
    ")\n",
    "print(\"stdout:\", result.stdout, \"stderr:\", result.stderr, \"return code: \", result.returncode)\n"
   ]
  },
  {
   "cell_type": "markdown",
   "id": "81eb2d94-8897-403e-b734-0680ab80d138",
   "metadata": {},
   "source": [
    "Now, what happens if your subprocess runs longer?"
   ]
  },
  {
   "cell_type": "code",
   "execution_count": null,
   "id": "b1bb1424-ff9f-4be2-824b-c90c195818d4",
   "metadata": {},
   "outputs": [],
   "source": [
    "print(\"Starting the sub process\")\n",
    "result = subprocess.run(\n",
    "    [\"echo 'Hello, again!'; sleep 15\"], stdout=subprocess.PIPE, stderr=subprocess.PIPE, shell=True\n",
    ")\n",
    "print(\"stdout:\", result.stdout, \"stderr:\", result.stderr, \"return code: \", result.returncode)"
   ]
  },
  {
   "cell_type": "markdown",
   "id": "104a19e0-5f52-44e9-a0a9-92637a8cd8f4",
   "metadata": {},
   "source": [
    "You see that while you run `subprocess.run` you are blocked and need to wait until the subprocess finishes execution before you can do anything else. This may not be ideal for most cases. Hence, there is a better way to run subprocess using `Popen` that opens a process in a separate thread, and allows you to communicate to it periodically using `poll()`"
   ]
  },
  {
   "cell_type": "code",
   "execution_count": null,
   "id": "148cf960-9127-401f-ae0f-9e775ee5d8d9",
   "metadata": {},
   "outputs": [],
   "source": [
    "cmd = shlex.split(\"/bin/bash loop.bash\")\n",
    "result = subprocess.run(cmd,stdout=subprocess.PIPE, stderr=subprocess.PIPE)\n",
    "print(\"stdout:\", result.stdout.decode(), \"stderr:\", result.stderr.decode(), \"return code: \", result.returncode)"
   ]
  },
  {
   "cell_type": "code",
   "execution_count": null,
   "id": "55710d0f-8aa6-488d-8088-15c76116506e",
   "metadata": {},
   "outputs": [],
   "source": [
    "cmd = shlex.split(\"/bin/bash loop.bash\")\n",
    "process = subprocess.Popen(cmd, stdout=subprocess.PIPE)\n",
    "# for c in iter(lambda: process.stdout.read(1), b''): \n",
    "#     sys.stdout.write(c)\n",
    "    \n",
    "while True:\n",
    "    c = process.stdout.read(1)\n",
    "    if c == b'':\n",
    "        break;\n",
    "    sys.stdout.write(c)\n",
    "    \n",
    "sys.stdout.write(\"Done.\")\n",
    "\n"
   ]
  },
  {
   "cell_type": "markdown",
   "id": "12261124-50df-4221-bd02-54c2ca6f0fa5",
   "metadata": {},
   "source": [
    "What is more versatile is that subprocess allows to communicate to a process multiple times through its std I/O pipes. Let us create a simple Jupyter notebook ourselves, shall we?"
   ]
  },
  {
   "cell_type": "code",
   "execution_count": null,
   "id": "06504c3f-5995-417c-9d4c-019e60d5b9cd",
   "metadata": {},
   "outputs": [],
   "source": [
    "proc = subprocess.Popen(['python3', '-i'],\n",
    "                        stdin=subprocess.PIPE,\n",
    "                        stdout=subprocess.PIPE,\n",
    "                        stderr=subprocess.PIPE)\n",
    "\n",
    "# To avoid deadlocks: careful to: add \\n to output, flush output, use\n",
    "# readline() rather than read()\n",
    "while True:\n",
    "    inp = input()\n",
    "    if inp == \"exit\":\n",
    "        proc.stdin.close()\n",
    "        proc.terminate()\n",
    "        proc.wait(timeout=0.2)\n",
    "        break\n",
    "    inp = inp + \"\\n\"\n",
    "    proc.stdin.write(inp.encode('utf-8'))\n",
    "    proc.stdin.flush()\n",
    "    print(proc.stdout.readline())"
   ]
  },
  {
   "cell_type": "markdown",
   "id": "1d306962-2203-454a-8020-3c3abfe5030b",
   "metadata": {},
   "source": [
    "# Fundi python tutorial\n",
    "\n",
    "For the rest of the talk, we will use the packages introduced in the talk along with other pulsar-specific in a real-world application to pulsars. In the github repository, you will find a filterbank file named J1818-1422.fil. This contains 1.5 minutes of search-mode data on J1818-1422 taken using the L-band receiver of the MeerKAT telescope. Using this data, we will perform the following operations:\n",
    "* Load the data using sigpyproc, and view single pulses from the data\n",
    "* Fold the data at the topocentric period of the pulsar using DSPSR\n",
    "* Load and plot the data using psrchive python bindings, numpy and matplotlib\n"
   ]
  }
 ],
 "metadata": {
  "kernelspec": {
   "display_name": "Python 3",
   "language": "python",
   "name": "python3"
  },
  "language_info": {
   "codemirror_mode": {
    "name": "ipython",
    "version": 3
   },
   "file_extension": ".py",
   "mimetype": "text/x-python",
   "name": "python",
   "nbconvert_exporter": "python",
   "pygments_lexer": "ipython3",
   "version": "3.6.9"
  }
 },
 "nbformat": 4,
 "nbformat_minor": 5
}
